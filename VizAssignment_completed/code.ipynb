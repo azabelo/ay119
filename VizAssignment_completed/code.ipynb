{
 "cells": [
  {
   "cell_type": "code",
   "execution_count": 2,
   "id": "77c73b61",
   "metadata": {},
   "outputs": [
    {
     "name": "stdout",
     "output_type": "stream",
     "text": [
      "Collecting numpy\n",
      "  Using cached numpy-2.2.5-cp310-cp310-macosx_10_9_x86_64.whl.metadata (62 kB)\n",
      "Using cached numpy-2.2.5-cp310-cp310-macosx_10_9_x86_64.whl (21.3 MB)\n",
      "Installing collected packages: numpy\n",
      "Successfully installed numpy-2.2.5\n",
      "Note: you may need to restart the kernel to use updated packages.\n"
     ]
    }
   ],
   "source": [
    "pip install numpy"
   ]
  },
  {
   "cell_type": "code",
   "execution_count": 4,
   "id": "3f45b70c",
   "metadata": {},
   "outputs": [],
   "source": [
    "import numpy as np"
   ]
  },
  {
   "cell_type": "code",
   "execution_count": 6,
   "id": "e4e69f1d",
   "metadata": {},
   "outputs": [
    {
     "data": {
      "text/plain": [
       "(3190, 36)"
      ]
     },
     "execution_count": 6,
     "metadata": {},
     "output_type": "execute_result"
    }
   ],
   "source": [
    "feats = np.load('dsfp_ztf_feats.npy')\n",
    "feats.shape"
   ]
  },
  {
   "cell_type": "code",
   "execution_count": 14,
   "id": "9ee090a3",
   "metadata": {},
   "outputs": [],
   "source": [
    "header = ''\n",
    "\n",
    "for i in range(feats.shape[1]):\n",
    "    header += f'column{i},'\n",
    "header = header[:-1] \n",
    "\n",
    "# Save to CSV\n",
    "np.savetxt('output.csv', feats, delimiter=',', fmt='%s', header=header, comments='')"
   ]
  },
  {
   "cell_type": "code",
   "execution_count": 13,
   "id": "e389d6d2",
   "metadata": {},
   "outputs": [
    {
     "data": {
      "text/plain": [
       "array([(460195930015015000, 460195930015, b't', 0, 520120200, 2, 460, 520, 1, 0, 2458214, 1377.8684,  445.4917, 153.69453,  9.615969, 0.20666666, b'ztf_20180406195938_000520_zr_c01_o_q1_scimrefdiffimg.fits'),\n",
       "       (465347930015015004, 465347930015, b't', 0, 678120200, 2, 465, 678, 1, 4, 2458219, 2270.0896,  394.4764, 238.9436 , 31.19012 , 0.26      , b'ztf_20180411347917_000678_zr_c01_o_q1_scimrefdiffimg.fits'),\n",
       "       (465347930115015001, 465347930115, b't', 1, 678120201, 2, 465, 678, 1, 1, 2458219,  793.0829, 2919.4358, 238.39273, 30.495762, 0.18      , b'ztf_20180411347917_000678_zr_c01_o_q2_scimrefdiffimg.fits'),\n",
       "       (465347930115015005, 465347930115, b't', 1, 678120201, 2, 465, 678, 1, 5, 2458219,  149.0323, 1899.7362, 238.61394, 30.77653 , 0.23      , b'ztf_20180411347917_000678_zr_c01_o_q2_scimrefdiffimg.fits'),\n",
       "       (465347930115015006, 465347930115, b't', 1, 678120201, 2, 465, 678, 1, 6, 2458219,  622.3886, 2645.0771, 238.45128, 30.571365, 0.21666667, b'ztf_20180411347917_000678_zr_c01_o_q2_scimrefdiffimg.fits')],\n",
       "      dtype=[('candid', 'O'), ('pid', '<u8'), ('isdiffpos', 'S1'), ('rcid', '<i2'), ('rfid', '<u8'), ('fid', '<i2'), ('nid', '<i2'), ('field', '<i4'), ('programid', '<i4'), ('tblid', '<i4'), ('jd', '<i4'), ('xpos', '<f4'), ('ypos', '<f4'), ('ra', '<f4'), ('dec', '<f4'), ('rb', '<f4'), ('pdiffimfilename', 'S128')])"
      ]
     },
     "execution_count": 13,
     "metadata": {},
     "output_type": "execute_result"
    }
   ],
   "source": [
    "meta = np.load('dsfp_ztf_meta.npy', allow_pickle=True)\n",
    "meta[:5]"
   ]
  },
  {
   "cell_type": "code",
   "execution_count": null,
   "id": "bb501074",
   "metadata": {},
   "outputs": [],
   "source": []
  }
 ],
 "metadata": {
  "kernelspec": {
   "display_name": "Python 3",
   "language": "python",
   "name": "python3"
  },
  "language_info": {
   "codemirror_mode": {
    "name": "ipython",
    "version": 3
   },
   "file_extension": ".py",
   "mimetype": "text/x-python",
   "name": "python",
   "nbconvert_exporter": "python",
   "pygments_lexer": "ipython3",
   "version": "3.10.16"
  }
 },
 "nbformat": 4,
 "nbformat_minor": 5
}
